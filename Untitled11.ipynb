{
  "nbformat": 4,
  "nbformat_minor": 0,
  "metadata": {
    "colab": {
      "name": "Untitled11.ipynb",
      "provenance": [],
      "toc_visible": true,
      "authorship_tag": "ABX9TyNOawgWh7oby6Q6kxmUh5/B",
      "include_colab_link": true
    },
    "kernelspec": {
      "name": "python3",
      "display_name": "Python 3"
    }
  },
  "cells": [
    {
      "cell_type": "markdown",
      "metadata": {
        "id": "view-in-github",
        "colab_type": "text"
      },
      "source": [
        "<a href=\"https://colab.research.google.com/github/10811203/colab-pastword/blob/master/Untitled11.ipynb\" target=\"_parent\"><img src=\"https://colab.research.google.com/assets/colab-badge.svg\" alt=\"Open In Colab\"/></a>"
      ]
    },
    {
      "cell_type": "code",
      "metadata": {
        "id": "zUh3e2ZMXVZ5",
        "colab_type": "code",
        "colab": {}
      },
      "source": [
        "import requests, os\n",
        " \n",
        "\"\"\"\n",
        "發送 Line Notify 訊息\n",
        "\"\"\"\n",
        "def lineNotify(token, msg, picURI):\n",
        "    url = \"https://notify-api.line.me/api/notify\"\n",
        "    headers = {\n",
        "        \"Authorization\": \"Bearer \" + token\n",
        "    }\n",
        "   \n",
        "    payload = {'message': msg}\n",
        "    files = {'imageFile': open(picURI, 'rb')}\n",
        "    r = requests.post(url, headers = headers, params = payload, files = files)\n",
        "    return r.status_code\n",
        " \n",
        " \n",
        "#token = os.environ[\"LINE_TEST_TOKEN\"]\n",
        "token=\"uVFwmU4IOofatG0reXAiw2UaHE8Pe0VzUBz2y01nOlv\"\n",
        "msg = \"今天是神奇寶貝特輯\"\n",
        "picURI = \"1.jpg\"\n",
        " \n",
        " \n",
        "lineNotify(token, msg, \"1.jpg\")\n",
        "\n",
        "picURI = \"11.jpg\"\n",
        "lineNotify(token, msg, \"11.jpg\")\n",
        "\n",
        "picURI = \"111.jpg\"\n",
        "lineNotify(token, msg,\"111.jpg\")"
      ],
      "execution_count": 0,
      "outputs": []
    }
  ]
}